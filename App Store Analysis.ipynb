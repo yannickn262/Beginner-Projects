{
 "cells": [
  {
   "cell_type": "markdown",
   "metadata": {},
   "source": [
    "First Guided Project on Jupyter Notebooks\n",
    "    - Analyzing/Cleaning 4 million plus apps from the Google Play and Apple Store \n",
    "    - Finding which apps are most profitable (via # of downloads), advertising revenue conversion rate(.36%)\n",
    "    - Done through the DataQuest.IO platform \n",
    "    "
   ]
  },
  {
   "cell_type": "code",
   "execution_count": 6,
   "metadata": {},
   "outputs": [],
   "source": [
    "#Download both datasets, and update open to absolute path of file \n",
    "from csv import reader\n",
    "\n",
    "apple_store = open('AppleStore.csv', encoding='utf8')\n",
    "read_apple = reader(apple_store)\n",
    "apple = list(read_apple)\n",
    "apple_header = apple[0]\n",
    "apple_content = apple[1:]\n",
    "\n",
    "\n",
    "google_store = open('googleplaystore.csv', encoding = 'utf8')\n",
    "read_google = reader(google_store)\n",
    "google = list(read_google)\n",
    "google_header = google[0]\n",
    "google_content = google[1:]\n",
    "\n",
    "\n",
    "def explore_data(dataset, start, end, rows_and_columns=False):\n",
    "    dataset_slice = dataset[start:end]    \n",
    "    for row in dataset_slice:\n",
    "        print(row)\n",
    "        print('\\n') # adds a new (empty) line after each row\n",
    "\n",
    "    if rows_and_columns:\n",
    "        print('Number of rows:', len(dataset))\n",
    "        print('Number of columns:', len(dataset[0]))"
   ]
  },
  {
   "cell_type": "code",
   "execution_count": 8,
   "metadata": {},
   "outputs": [
    {
     "name": "stdout",
     "output_type": "stream",
     "text": [
      "['', 'id', 'track_name', 'size_bytes', 'currency', 'price', 'rating_count_tot', 'rating_count_ver', 'user_rating', 'user_rating_ver', 'ver', 'cont_rating', 'prime_genre', 'sup_devices.num', 'ipadSc_urls.num', 'lang.num', 'vpp_lic']\n",
      "\n",
      "\n",
      "['Photo Editor & Candy Camera & Grid & ScrapBook', 'ART_AND_DESIGN', '4.1', '159', '19M', '10,000+', 'Free', '0', 'Everyone', 'Art & Design', 'January 7, 2018', '1.0.0', '4.0.3 and up']\n",
      "\n",
      "\n",
      "['Coloring book moana', 'ART_AND_DESIGN', '3.9', '967', '14M', '500,000+', 'Free', '0', 'Everyone', 'Art & Design;Pretend Play', 'January 15, 2018', '2.0.0', '4.0.3 and up']\n",
      "\n",
      "\n",
      "['U Launcher Lite – FREE Live Cool Themes, Hide Apps', 'ART_AND_DESIGN', '4.7', '87510', '8.7M', '5,000,000+', 'Free', '0', 'Everyone', 'Art & Design', 'August 1, 2018', '1.2.4', '4.0.3 and up']\n",
      "\n",
      "\n",
      "Number of rows: 10841\n",
      "Number of columns: 13\n"
     ]
    }
   ],
   "source": [
    "print(apple_header) \n",
    "print('\\n')\n",
    "explore_data(google_content, 0, 3, True)\n",
    "#deletes content with rating of 19 as google play ratings go from 1-5 (i.e. low quality data)\n",
    "del google_content[10472]"
   ]
  },
  {
   "cell_type": "code",
   "execution_count": 18,
   "metadata": {},
   "outputs": [
    {
     "name": "stdout",
     "output_type": "stream",
     "text": [
      "Number of Google Play Duplicates:  10840\n",
      "Number of Apple Store Duplicates:  0\n"
     ]
    }
   ],
   "source": [
    "duplicates_goog = []\n",
    "duplicates_apple = []\n",
    "uniques_goog = [] \n",
    "uniques_apple = []\n",
    "\n",
    "# Counts the # of duplicates and organizes into a list\n",
    "for app in google_content:\n",
    "    name = app[0]\n",
    "    if(name in uniques):\n",
    "        duplicates_goog.append(name)\n",
    "    else: \n",
    "        uniques_goog.append(name)\n",
    "        \n",
    "for app in apple_content:\n",
    "    name = app[0]\n",
    "    if(name in uniques_apple):\n",
    "        duplicates_apple.append(name)\n",
    "    else: \n",
    "        uniques_apple.append(name)\n",
    "        \n",
    "print(\"Number of Google Play Duplicates: \", len(duplicates_goog))\n",
    "print(\"Number of Apple Store Duplicates: \", len(duplicates_apple))"
   ]
  },
  {
   "cell_type": "code",
   "execution_count": 27,
   "metadata": {},
   "outputs": [
    {
     "name": "stdout",
     "output_type": "stream",
     "text": [
      "中国語 AQリスニング\n"
     ]
    }
   ],
   "source": [
    "#Creates Dictionary where key is unique app name, and value is highest # of reviews of that app\n",
    "#Ex: Insta has 2.1 million ratings in one entry in the list and 2.2 million ratings in another in same list\n",
    "#Ex: Keep the one with more as it's more recent data and ignore other entry\n",
    "reviews_max = {} \n",
    "for app in google_content:\n",
    "    name = app[0]\n",
    "    n_reviews = float(app[3])\n",
    "    if name in reviews_max and reviews_max[name] < n_reviews: \n",
    "        reviews_max[name] = n_reviews\n",
    "    elif name not in reviews_max:\n",
    "        reviews_max[name] = n_reviews\n",
    "\n",
    "google_clean = [] \n",
    "apple_clean = []\n",
    "already_added = []\n",
    "alread_added_apple = []\n",
    "for app in google_content:\n",
    "    name = app[0]\n",
    "    n_reviews = float(app[3])\n",
    "    if n_reviews == reviews_max[name] and name not in already_added:\n",
    "        google_clean.append(app)\n",
    "        already_added.append(name)\n",
    "\n",
    "for app in apple_content:\n",
    "    name = app[1]\n",
    "    n_reviews = float(app[3])\n",
    "    if n_reviews == reviews_max[name] and name not in already_added_apple:\n",
    "        apple_clean.append(app)\n",
    "        already_added_apple.append(name)\n"
   ]
  },
  {
   "cell_type": "code",
   "execution_count": null,
   "metadata": {},
   "outputs": [],
   "source": [
    "#1,181 cases where an app occurs more than once - Ik Terrible hardcoding\n",
    "print('Expected length:', len(google_content) - 1181)\n",
    "print('Actual length:', len(reviews_max))\n",
    "explore_data(google_clean, 0, 3, True)"
   ]
  },
  {
   "cell_type": "code",
   "execution_count": 32,
   "metadata": {},
   "outputs": [
    {
     "name": "stdout",
     "output_type": "stream",
     "text": [
      "False\n",
      "Number of rows: 0\n"
     ]
    },
    {
     "ename": "IndexError",
     "evalue": "list index out of range",
     "output_type": "error",
     "traceback": [
      "\u001b[0;31m---------------------------------------------------------------------------\u001b[0m",
      "\u001b[0;31mIndexError\u001b[0m                                Traceback (most recent call last)",
      "\u001b[0;32m<ipython-input-32-38811bc94139>\u001b[0m in \u001b[0;36m<module>\u001b[0;34m()\u001b[0m\n\u001b[1;32m     30\u001b[0m             \u001b[0mnonEnglish_apple\u001b[0m\u001b[0;34m.\u001b[0m\u001b[0mappend\u001b[0m\u001b[0;34m(\u001b[0m\u001b[0mapp\u001b[0m\u001b[0;34m)\u001b[0m\u001b[0;34m\u001b[0m\u001b[0m\n\u001b[1;32m     31\u001b[0m \u001b[0;34m\u001b[0m\u001b[0m\n\u001b[0;32m---> 32\u001b[0;31m \u001b[0mexplore_data\u001b[0m\u001b[0;34m(\u001b[0m\u001b[0mnonEnglish_goog\u001b[0m\u001b[0;34m,\u001b[0m \u001b[0;36m0\u001b[0m\u001b[0;34m,\u001b[0m \u001b[0;36m3\u001b[0m\u001b[0;34m,\u001b[0m \u001b[0;32mTrue\u001b[0m\u001b[0;34m)\u001b[0m\u001b[0;34m\u001b[0m\u001b[0m\n\u001b[0m\u001b[1;32m     33\u001b[0m \u001b[0mprint\u001b[0m\u001b[0;34m(\u001b[0m\u001b[0;34m'\\n'\u001b[0m\u001b[0;34m)\u001b[0m\u001b[0;34m\u001b[0m\u001b[0m\n\u001b[1;32m     34\u001b[0m \u001b[0mexplore_data\u001b[0m\u001b[0;34m(\u001b[0m\u001b[0mnonEnglish_apple\u001b[0m\u001b[0;34m,\u001b[0m \u001b[0;36m0\u001b[0m\u001b[0;34m,\u001b[0m \u001b[0;36m3\u001b[0m\u001b[0;34m,\u001b[0m \u001b[0;32mTrue\u001b[0m\u001b[0;34m)\u001b[0m\u001b[0;34m\u001b[0m\u001b[0m\n",
      "\u001b[0;32m<ipython-input-6-1d0a39aee600>\u001b[0m in \u001b[0;36mexplore_data\u001b[0;34m(dataset, start, end, rows_and_columns)\u001b[0m\n\u001b[1;32m     24\u001b[0m     \u001b[0;32mif\u001b[0m \u001b[0mrows_and_columns\u001b[0m\u001b[0;34m:\u001b[0m\u001b[0;34m\u001b[0m\u001b[0m\n\u001b[1;32m     25\u001b[0m         \u001b[0mprint\u001b[0m\u001b[0;34m(\u001b[0m\u001b[0;34m'Number of rows:'\u001b[0m\u001b[0;34m,\u001b[0m \u001b[0mlen\u001b[0m\u001b[0;34m(\u001b[0m\u001b[0mdataset\u001b[0m\u001b[0;34m)\u001b[0m\u001b[0;34m)\u001b[0m\u001b[0;34m\u001b[0m\u001b[0m\n\u001b[0;32m---> 26\u001b[0;31m         \u001b[0mprint\u001b[0m\u001b[0;34m(\u001b[0m\u001b[0;34m'Number of columns:'\u001b[0m\u001b[0;34m,\u001b[0m \u001b[0mlen\u001b[0m\u001b[0;34m(\u001b[0m\u001b[0mdataset\u001b[0m\u001b[0;34m[\u001b[0m\u001b[0;36m0\u001b[0m\u001b[0;34m]\u001b[0m\u001b[0;34m)\u001b[0m\u001b[0;34m)\u001b[0m\u001b[0;34m\u001b[0m\u001b[0m\n\u001b[0m",
      "\u001b[0;31mIndexError\u001b[0m: list index out of range"
     ]
    }
   ],
   "source": [
    "#attempts to remove non-English App's from list (Demographic: English Speaking Consumers)\n",
    "#if english return true else false\n",
    "def checkLang(string):\n",
    "    nonAscii_count = 0\n",
    "    for letter in string:\n",
    "        num = ord(letter)\n",
    "        if num > 127:\n",
    "            nonAscii_count += 1\n",
    "            \n",
    "    #more than 3 special characters means it's probably not english\n",
    "    if nonAscii_count > 3:\n",
    "         return False\n",
    "    else:\n",
    "        return True \n",
    "\n",
    "nonEnglish_goog = []\n",
    "nonEnglish_apple = []\n",
    "def removeNonEng(list):\n",
    "    for app in google_clean:\n",
    "        name = app[0]\n",
    "        if checkLang(name):\n",
    "            nonEnglish_goog.append(app)\n",
    "            \n",
    "    for app in apple_clean:\n",
    "        name = app[1]\n",
    "        if checkLang(name) == True:\n",
    "            nonEnglish_apple.append(app)\n",
    "\n",
    "explore_data(nonEnglish_goog, 0, 3, True)\n",
    "print('\\n')\n",
    "explore_data(nonEnglish_apple, 0, 3, True)"
   ]
  },
  {
   "cell_type": "code",
   "execution_count": null,
   "metadata": {},
   "outputs": [],
   "source": []
  }
 ],
 "metadata": {
  "kernelspec": {
   "display_name": "Python 3",
   "language": "python",
   "name": "python3"
  },
  "language_info": {
   "codemirror_mode": {
    "name": "ipython",
    "version": 3
   },
   "file_extension": ".py",
   "mimetype": "text/x-python",
   "name": "python",
   "nbconvert_exporter": "python",
   "pygments_lexer": "ipython3",
   "version": "3.6.4"
  }
 },
 "nbformat": 4,
 "nbformat_minor": 2
}
